{
 "cells": [
  {
   "cell_type": "markdown",
   "metadata": {},
   "source": [
    "## Question 1\n",
    "### Random Sequence of Numbers\n",
    "---"
   ]
  },
  {
   "cell_type": "code",
   "execution_count": 18,
   "metadata": {},
   "outputs": [],
   "source": [
    "import numpy as np\n",
    "import matplotlib.pyplot as plt\n",
    "from scipy.stats import chisquare\n",
    "\n",
    "%matplotlib inline"
   ]
  },
  {
   "cell_type": "markdown",
   "metadata": {},
   "source": [
    "#### Creating a sequence of 10 digit numbers using uniform distribution"
   ]
  },
  {
   "cell_type": "code",
   "execution_count": 19,
   "metadata": {},
   "outputs": [
    {
     "name": "stdout",
     "output_type": "stream",
     "text": [
      "[6545373637 1274932347 3463217009 4431545869 2850421883 1022146965\n",
      " 9970984546 1862617017 3768364187 8459651397 8499369532 9584181141\n",
      " 9865126027 5046688405 1245883785 5290074230 3003968515 8032499834\n",
      " 8696652654 7996450051 5277191392 7311531477 3688102587 9724060387\n",
      " 1805387440 4011546043 2005705799 8057664930 8983827361 4651371598\n",
      " 8355362805 2964478009 9353893592 9712839863 5960913116 1735791092\n",
      " 5071514145 6766745007 4600178774 1665073628 5691436427 7999331457\n",
      " 6901723268 2768840263 3825360360 7440250727 6581964627 8853737739\n",
      " 4236466503 4793623283 9866669424 9948863492 7802679240 7938396823\n",
      " 7326049698 1755106218 1828007916 8681603584 9334149977 9515501742\n",
      " 7141735830 2841776773 1169035784 5617688369 6441999669 2747040752\n",
      " 6481861490 4656236836 1004725718 6271699224 6288374378 5127605982\n",
      " 1888209651 4261274273 4377466679 2574616382 5987387645 9752396739\n",
      " 8138588383 4607498316 8793002251 7263501794 9376703666 1750218101\n",
      " 3820250370 9129914088 9382635025 1765852894 8668873457 8153569020\n",
      " 6094404979 5755704729 7026929963 5918508441 9079042835 2541844831\n",
      " 3797207305 9078821648 4838215509 7518127989]\n"
     ]
    }
   ],
   "source": [
    "sequence = np.random.randint(1000000000,10000000000,size=100,dtype=np.int64)\n",
    "print(sequence)"
   ]
  },
  {
   "cell_type": "markdown",
   "metadata": {},
   "source": [
    "#### For every 10 digit number randomly replacing each digit of that number randomly using uniform distribution"
   ]
  },
  {
   "cell_type": "code",
   "execution_count": 20,
   "metadata": {},
   "outputs": [
    {
     "name": "stdout",
     "output_type": "stream",
     "text": [
      "[7752570013, 2929736755, 9299502026, 7426225729, 3333031425, 6546848978, 7845524039, 1126467861, 4971417190, 5422384425, 7948289857, 6974641412, 6022292855, 2357688415, 4913073291, 7714899905, 5536151358, 1691328792, 7695084698, 7176604379, 8172770307, 1395273101, 5375916148, 4105883406, 3782354916, 5776851058, 2999061909, 8860952777, 8212045861, 3111057050, 5653124637, 8905450753, 2994098756, 3006015459, 3082491988, 9834311543, 3998827985, 8266281239, 1088578178, 7975929367, 6842555717, 4401778040, 4084068556, 3434885425, 8962950716, 9656560597, 5935120813, 3928509907, 5568655225, 1081049757, 7267205608, 6099642887, 9619824852, 7941639976, 4905816196, 7708418472, 5633618900, 7481060839, 6319281411, 2050042294, 2841968819, 9083538780, 6457682685, 7508423141, 5099238078, 5105032556, 4725930224, 4443477848, 1685820664, 2052426411, 3397658265, 8177161063, 5129510630, 6155897585, 4729877075, 4912998546, 1827875219, 3223654112, 3333409873, 5188428536, 7930638274, 3823418041, 6200711859, 9491843808, 7451299937, 3185785865, 6259956513, 4578814197, 4638438488, 5987766675, 4140273619, 6841262654, 2965558291, 8708712470, 9690421903, 1560329968, 1158482864, 7284796700, 1177378713, 1908035747]\n"
     ]
    }
   ],
   "source": [
    "sequence2=[]\n",
    "for i in sequence:     #looping through all numbers in the sequence\n",
    "    num = [int(d) for d in str(i)] #seperating the digits(10) of each looped through number\n",
    "    for s in range(len(num)):      \n",
    "        num[s] = str(np.random.randint(10))  #replacing each digit with a randomly chosen digit\n",
    "    if int(num[0])==0:\n",
    "        num[0]=str(np.random.randint(1,10))\n",
    "    sequence2.append(int(''.join(num)))   \n",
    "print(sequence2)"
   ]
  },
  {
   "cell_type": "markdown",
   "metadata": {},
   "source": [
    "#### Selecting a digit randomly from each number and creating a sequence of such 10 digit numbers"
   ]
  },
  {
   "cell_type": "code",
   "execution_count": 21,
   "metadata": {},
   "outputs": [
    {
     "name": "stdout",
     "output_type": "stream",
     "text": [
      "[5186757873, 9224845988, 7256672377, 2578418754, 6034980188, 9672713428, 7246466541, 2444185527, 2226100085, 8953117005, 5042512798, 7761812558, 7068240839, 1562809677, 2887340712, 2500188863, 8146867512, 7718443768, 6996161739, 2194209109, 8946431066, 9261265675, 6669721894, 7258627111, 8770064483, 2241134732, 9052938691, 1300807119, 7883061561, 1480527584, 6512915380, 1238885718, 6975423855, 9989008231, 4903914037, 7931562887, 3154255845, 2076946756, 2609775491, 9196797408, 5936466951, 1523138496, 2871128733, 7955558578, 5016616843, 9673576072, 5305726600, 7739713899, 5252178662, 6913912118, 6907730381, 1875026176, 6014410294, 3609798057, 1946088579, 6589739789, 5316543824, 7463802904, 6299861974, 5197598045, 4876760467, 8832275772, 9187732986, 1442498492, 5622203375, 3067982774, 7148844476, 2944788243, 1870084964, 9965493240, 8096613828, 2505200933, 6950375860, 1745160519, 1369812766, 1108645458, 7469075368, 8808929827, 4545885483, 5457947263, 3179489285, 7341517296, 7942754762, 1759644188, 5644844894, 4539188712, 7202314357, 7573842317, 8542004524, 8955740181, 1912131358, 8827730089, 7748221379, 2700340580, 4160284921, 5595316389, 2615699114, 5992119534, 1071555175, 5949759429]\n"
     ]
    }
   ],
   "source": [
    "sequence3=[]\n",
    "while(len(sequence3) <len(sequence)):\n",
    "    appendingnum=[]\n",
    "    for i in range(10):\n",
    "        num = np.random.choice(sequence2)     #randomly choosing a 10 digit number from the previous sequence\n",
    "        digits = [int(d) for d in str(num)]   # splitting the digits in that number\n",
    "        digit = np.random.choice(digits)      #randomly choosing a digit from that number\n",
    "        appendingnum.append(str(digit))\n",
    "    if int(appendingnum[0])==0:\n",
    "        appendingnum[0]=str(np.random.randint(1,10))\n",
    "    sequence3.append(int(''.join(appendingnum)))\n",
    "    appendingnum.clear()\n",
    "print(sequence3) \n",
    "\n"
   ]
  },
  {
   "cell_type": "markdown",
   "metadata": {},
   "source": [
    "#### To check if the generated sequence is an I.I.D sequence, we have to check for its uniformity and independence. We can check for its uniformity using Chi-Squared Test. The resultant chi-squared value is then compared to critical chi-squared value table with the required confidence interval."
   ]
  },
  {
   "cell_type": "code",
   "execution_count": 22,
   "metadata": {},
   "outputs": [
    {
     "data": {
      "text/plain": [
       "Power_divergenceResult(statistic=131098633278.51169, pvalue=0.0)"
      ]
     },
     "execution_count": 22,
     "metadata": {},
     "output_type": "execute_result"
    }
   ],
   "source": [
    "chisquare(sequence3)"
   ]
  },
  {
   "cell_type": "code",
   "execution_count": 23,
   "metadata": {},
   "outputs": [
    {
     "name": "stdout",
     "output_type": "stream",
     "text": [
      "[9, 4, 0, 1, 8, 2, 6, 2, 5, 6, 2, 8, 1, 7, 1, 3, 8, 2, 8, 5, 9, 7, 5, 5, 6, 3, 8, 8, 5, 6, 7, 4, 4, 7, 9, 8, 9, 3, 7, 3, 5, 5, 1, 1, 1, 8, 5, 8, 2, 8, 1, 3, 2, 4, 9, 3, 8, 5, 4, 5, 9, 7, 9, 9, 1, 5, 5, 1, 7, 2, 5, 9, 7, 2, 1, 7, 7, 2, 2, 4, 9, 0, 9, 8, 9, 0, 5, 9, 5, 1, 7, 1, 2, 7, 9, 8, 6, 5, 9, 4]\n"
     ]
    }
   ],
   "source": [
    "sequence4=[]\n",
    "appendingnum=[]\n",
    "while(len(appendingnum) <len(sequence)):\n",
    "\n",
    "        num = np.random.choice(sequence2)\n",
    "        digits = [int(d) for d in str(num)]\n",
    "        digit = np.random.choice(digits)\n",
    "        appendingnum.append(digit)\n",
    "\n",
    "print(appendingnum) "
   ]
  },
  {
   "cell_type": "code",
   "execution_count": 26,
   "metadata": {},
   "outputs": [
    {
     "data": {
      "text/plain": [
       "Power_divergenceResult(statistic=128291520334.69891, pvalue=0.0)"
      ]
     },
     "execution_count": 26,
     "metadata": {},
     "output_type": "execute_result"
    }
   ],
   "source": [
    "chisquare(sequence)"
   ]
  },
  {
   "cell_type": "code",
   "execution_count": 27,
   "metadata": {},
   "outputs": [
    {
     "data": {
      "text/plain": [
       "Power_divergenceResult(statistic=156.98050682261206, pvalue=0.0001865244159646558)"
      ]
     },
     "execution_count": 27,
     "metadata": {},
     "output_type": "execute_result"
    }
   ],
   "source": [
    "chisquare(appendingnum)"
   ]
  },
  {
   "cell_type": "code",
   "execution_count": null,
   "metadata": {},
   "outputs": [],
   "source": []
  }
 ],
 "metadata": {
  "kernelspec": {
   "display_name": "Python 3",
   "language": "python",
   "name": "python3"
  },
  "language_info": {
   "codemirror_mode": {
    "name": "ipython",
    "version": 3
   },
   "file_extension": ".py",
   "mimetype": "text/x-python",
   "name": "python",
   "nbconvert_exporter": "python",
   "pygments_lexer": "ipython3",
   "version": "3.8.5"
  }
 },
 "nbformat": 4,
 "nbformat_minor": 4
}
