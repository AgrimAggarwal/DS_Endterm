{
 "cells": [
  {
   "cell_type": "markdown",
   "metadata": {},
   "source": [
    "## Question 2\n",
    "### Stock Market Random Walk\n",
    "---\n",
    "\n",
    "We are given independent random variables $(Y_1,Y_2,..)$  such that $P(Y_i=1)=P(Y_i=-1)=\\frac{1}{2}$. Here, $Y_i=1$ refers to <u>\"stock price increased by one dollar\"</u> and $Y_i=-1$ refers to <u>\"stock price decreased by one dollar\"</u>. Define $\\mathcal{X_n}= \\sum^{n}_{i=1}Y_i$ as value of stock on day n.\n",
    "\n",
    "Expectation value of $\\mathcal{X_n}$ is given as :\n",
    "\n",
    "$$ \n",
    "    \\begin{align}\n",
    "        \\mathbb{E}(Y_i)&= P(Y_i=1)(1) + P(Y_i=-1)(-1)\\\\\n",
    "        &=\\frac{1}{2}(1)  + \\frac{1}{2}(-1)\\\\\n",
    "        &=0\n",
    "    \\end{align}\n",
    "$$\n",
    "\n",
    "$$ \n",
    "    \\begin{align}\n",
    "        \\implies \\mathbb{E}(\\mathcal{X_n}) &= \\mathbb{E}(\\sum^{n}_{i=1}Y_i)\\\\\n",
    "        &=n\\mathbb{E}(Y_i)\\\\\n",
    "        &=0\n",
    "    \\end{align}\n",
    "$$\n",
    "\n",
    "$$  \\begin{align}\n",
    "        \\mathbb{E}(Y_i^2)&= P(Y_i=1)(1) + P(Y_i=-1)(1)\\\\\n",
    "        &=\\frac{1}{2}(1)  + \\frac{1}{2}(1)\\\\\n",
    "        &=1\n",
    "    \\end{align}\n",
    "$$\n",
    "\n",
    "Variance of $\\mathcal{X_n}$ is given as:\n",
    "\n",
    "$$ \n",
    "    \\begin{align}\n",
    "        \\mathbb{V}(Y_i)&= \\mathbb{E}(Y_i^2)- (\\mathbb{E}(Y_i))^2\\\\\n",
    "        &=1-(0)^2\\\\\n",
    "        &=1\n",
    "    \\end{align}\n",
    "$$\n",
    "\n",
    "$$ \n",
    "    \\begin{align}\n",
    "        \\implies \\mathbb{V}(\\mathcal{X_n}) &= n\\\\\n",
    "    \\end{align}\n",
    "$$\n",
    "\n",
    "\n",
    "#### Simulation of random walk"
   ]
  },
  {
   "cell_type": "code",
   "execution_count": 3,
   "metadata": {},
   "outputs": [],
   "source": [
    "import numpy as np\n",
    "import matplotlib.pyplot as plt\n",
    "\n",
    "%matplotlib inline"
   ]
  },
  {
   "cell_type": "code",
   "execution_count": 181,
   "metadata": {},
   "outputs": [
    {
     "data": {
      "text/plain": [
       "[<matplotlib.lines.Line2D at 0x1cd05aa3fa0>]"
      ]
     },
     "execution_count": 181,
     "metadata": {},
     "output_type": "execute_result"
    },
    {
     "data": {
      "image/png": "[encoded data removed]",
      "text/plain": [
       "<Figure size 432x288 with 1 Axes>"
      ]
     },
     "metadata": {
      "needs_background": "light"
     },
     "output_type": "display_data"
    }
   ],
   "source": [
    "'''Ctrl + Enter to run this simulation multiple times and observe different results'''\n",
    "\n",
    "n=10000\n",
    "x_bar=[]\n",
    "x=0\n",
    "\n",
    "for i in range(n+1):\n",
    "        success = np.random.binomial(1,0.5)\n",
    "        suc = 2*success -1\n",
    "        x+=suc\n",
    "        x_bar.append(x)\n",
    "\n",
    "plt.xlabel('n')\n",
    "plt.ylabel('$X_n$')\n",
    "plt.plot(list(range(n+1)),x_bar)"
   ]
  },
  {
   "cell_type": "markdown",
   "metadata": {},
   "source": [
    "We can observe from simulating this multiple times that the result of each simulation is very different. This can also be inferred from the Variance that we can calculated above which came out be $\\mathbb{V}(\\mathcal{X_n})=n$. As we move further away, the probability of predicting the stock price becomes more unpredictable. This goes against the saying that 'history tends to repeat itself'. This is clearly not true as in this true random walk, each outcome is independent of others and has an equal probability of going up or down."
   ]
  }
 ],
 "metadata": {
  "kernelspec": {
   "display_name": "Python 3",
   "language": "python",
   "name": "python3"
  },
  "language_info": {
   "codemirror_mode": {
    "name": "ipython",
    "version": 3
   },
   "file_extension": ".py",
   "mimetype": "text/x-python",
   "name": "python",
   "nbconvert_exporter": "python",
   "pygments_lexer": "ipython3",
   "version": "3.8.5"
  }
 },
 "nbformat": 4,
 "nbformat_minor": 4
}
