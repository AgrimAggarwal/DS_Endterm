{
 "cells": [
  {
   "cell_type": "markdown",
   "metadata": {},
   "source": [
    "## Question 3\n",
    "### Maximum Likelihood - Poisson Distribution\n",
    "---\n",
    "\n",
    "The Poisson process counts the number of events occuring in a fixed time or space, when events occur independently and at a constant average rate.\n",
    "\n",
    "Here, we have a photon counter which detects the photons from a distant star. $ \\lambda$ is the rate of photon arriving at the counter per minute. The number of photons collected has a poisson distribution given by,\n",
    "\n",
    "$$ P(r|\\lambda) = e^{-\\lambda}\\frac{\\lambda^r}{r!}$$\n",
    "\n",
    "We have to find the maximum likelihood for this process for r=9. We define the likelihood function as : \n",
    "\n",
    "$$ \\mathcal{L}(\\lambda|r=9) = e^{-\\lambda}\\frac{\\lambda^r}{r!} $$\n",
    "\n",
    "To find the most likely average rate(parameter) $\\lambda$ for which this distribution gives the r=9 can be found by differentiating the likelihood function by $\\lambda$ and setting it equal to 0.\n",
    "\n",
    "$$ \n",
    "    \\begin{align}\n",
    "    \\frac{d}{d\\lambda}\\mathcal{L}(\\lambda|r=9) &= \\frac{-e^{-\\lambda}\\lambda^r}{r!} + \\frac{re^{-\\lambda}\\lambda^{r-1}}{r!} = 0\\\\\n",
    "    &= e^{-\\lambda}\\lambda^{r-1}[-\\lambda+r]=0\\\\\n",
    "    \\end{align}\n",
    "$$\n",
    "\n",
    "$$ \\implies \\lambda=0 \\ \\ \\ \\ or \\  \\ \\     \\lambda=9$$\n",
    "\n",
    "Ignoring $\\lambda=0$, since it wouldn't make sense we get $\\lambda=9$. \n",
    "\n",
    "Now, assuming that the counter also detects the background photons at a rate of b=13 photons per minute, we find the most likely value of $\\lambda$ such that r=9. We can apply the same process as above. Noticing that, b is a constant we can simply replace above $\\lambda $ as $\\lambda+b$.\n",
    "\n",
    "$$\n",
    "    \\begin{align}\n",
    "        e^{-(\\lambda+b)}(\\lambda+b)^{r-1}[-(\\lambda+b)+r]=0\\\\\n",
    "        = \\lambda+b=0 \\ \\ \\ or \\ \\ \\ \\lambda+b=r\\\\\n",
    "        \\implies \\lambda=-13 \\ \\ \\ or \\ \\ \\ \\lambda=-4\n",
    "    \\end{align}\n",
    "$$\n",
    "\n",
    "Now, negative value $\\lambda$ is not feasible as the average rate of detecting photons cannot be negative which can also be noticed from the fact that average rate of poisson distibution has to be positive. Therefore, we conclude that the $\\lambda$ for this case is equal to 0.\n",
    "\n"
   ]
  },
  {
   "cell_type": "code",
   "execution_count": 22,
   "metadata": {},
   "outputs": [],
   "source": [
    "'''Using Monte Carlo Simulation to test the results'''\n",
    "\n",
    "import numpy as np\n",
    "import matplotlib.pyplot as plt\n",
    "\n",
    "%matplotlib inline"
   ]
  },
  {
   "cell_type": "markdown",
   "metadata": {},
   "source": [
    "#### Case 1 : "
   ]
  },
  {
   "cell_type": "code",
   "execution_count": 64,
   "metadata": {},
   "outputs": [
    {
     "name": "stdout",
     "output_type": "stream",
     "text": [
      "Maximum value occurs at, (λ,p): (9.0,0.13175564000952267)\n"
     ]
    },
    {
     "data": {
      "image/png": "[encoded data removed]",
      "text/plain": [
       "<Figure size 432x288 with 1 Axes>"
      ]
     },
     "metadata": {
      "needs_background": "light"
     },
     "output_type": "display_data"
    }
   ],
   "source": [
    "param = np.arange(0,13,0.01)\n",
    "r=9\n",
    "p=[]\n",
    "for i in param:\n",
    "    p.append(((np.exp(-i))*((i)**9))/(np.math.factorial(9)))\n",
    "plt.xlabel(r'$\\lambda$')\n",
    "plt.ylabel('Likelihood')\n",
    "plt.plot(param,p)\n",
    "max_y = max(p)  # Find the maximum y value\n",
    "max_x = param[p.index(max_y)]  # Find the x value corresponding to the maximum y value\n",
    "print(f\"Maximum value occurs at, (λ,p): ({max_x},{max_y})\")"
   ]
  },
  {
   "cell_type": "markdown",
   "metadata": {},
   "source": [
    "#### Case 2:\n",
    "Background photons are also detected, b=13 photons per minute"
   ]
  },
  {
   "cell_type": "code",
   "execution_count": 65,
   "metadata": {},
   "outputs": [
    {
     "name": "stdout",
     "output_type": "stream",
     "text": [
      "Maximum value occurs at, (λ,p): (0.0,0.06605396213377439)\n"
     ]
    },
    {
     "data": {
      "image/png": "[encoded data removed]",
      "text/plain": [
       "<Figure size 432x288 with 1 Axes>"
      ]
     },
     "metadata": {
      "needs_background": "light"
     },
     "output_type": "display_data"
    }
   ],
   "source": [
    "param1 = np.arange(0,13,0.01)\n",
    "r=9\n",
    "b=13\n",
    "p1=[]\n",
    "for s in param1:\n",
    "    p1.append(((np.exp(-(s+b)))*((s+b)**9))/(np.math.factorial(9)))\n",
    "plt.xlabel(r'$\\lambda$')\n",
    "plt.ylabel('Likelihood')\n",
    "plt.plot(param1,p1)\n",
    "max_y1 = max(p1)  # Find the maximum y value\n",
    "max_x1 = param1[p1.index(max_y1)]  # Find the x value corresponding to the maximum y value\n",
    "print(f\"Maximum value occurs at, (λ,p): ({max_x1},{max_y1})\")"
   ]
  },
  {
   "cell_type": "code",
   "execution_count": null,
   "metadata": {},
   "outputs": [],
   "source": []
  }
 ],
 "metadata": {
  "kernelspec": {
   "display_name": "Python 3",
   "language": "python",
   "name": "python3"
  },
  "language_info": {
   "codemirror_mode": {
    "name": "ipython",
    "version": 3
   },
   "file_extension": ".py",
   "mimetype": "text/x-python",
   "name": "python",
   "nbconvert_exporter": "python",
   "pygments_lexer": "ipython3",
   "version": "3.8.5"
  }
 },
 "nbformat": 4,
 "nbformat_minor": 4
}
